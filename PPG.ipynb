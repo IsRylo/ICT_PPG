{
 "cells": [
  {
   "cell_type": "markdown",
   "metadata": {},
   "source": [
    "## Import the image and read the values."
   ]
  },
  {
   "cell_type": "code",
   "execution_count": 2,
   "metadata": {},
   "outputs": [],
   "source": [
    "# imports\n",
    "from PIL import Image\n",
    "import numpy as np"
   ]
  },
  {
   "cell_type": "code",
   "execution_count": 3,
   "metadata": {},
   "outputs": [
    {
     "data": {
      "text/plain": [
       "PIL.GifImagePlugin.GifImageFile"
      ]
     },
     "execution_count": 3,
     "metadata": {},
     "output_type": "execute_result"
    }
   ],
   "source": [
    "img = Image.open(\"video-example.gif\")\n",
    "type(img)"
   ]
  },
  {
   "cell_type": "code",
   "execution_count": 4,
   "metadata": {},
   "outputs": [
    {
     "name": "stdout",
     "output_type": "stream",
     "text": [
      "Format: GIF \n",
      "Width: 360 \n",
      "Height: 240 \n",
      "Mode: P\n"
     ]
    }
   ],
   "source": [
    "print(\"Format:\", img.format, \"\\nWidth:\", img.width, \"\\nHeight:\", img.height, \"\\nMode:\", img.mode)"
   ]
  },
  {
   "cell_type": "markdown",
   "metadata": {},
   "source": [
    "This means that the image is \"*palletised*\" meaning it stores 256 unique colors. **All GIF images are always palletised.**\n",
    "\n",
    "To obtain the RBG values we can use convert."
   ]
  },
  {
   "cell_type": "code",
   "execution_count": 5,
   "metadata": {},
   "outputs": [
    {
     "data": {
      "text/plain": [
       "'RGB'"
      ]
     },
     "execution_count": 5,
     "metadata": {},
     "output_type": "execute_result"
    }
   ],
   "source": [
    "rgb_image = img.convert(\"RGB\")\n",
    "rgb_image.mode"
   ]
  },
  {
   "cell_type": "markdown",
   "metadata": {},
   "source": [
    "This sets each pixel to be defined in three different *bands* (color scheme). Previously it was defined according to one color mode. Now, each pixel is defined using three bands ('R', 'G', 'B')."
   ]
  },
  {
   "cell_type": "code",
   "execution_count": 6,
   "metadata": {},
   "outputs": [
    {
     "data": {
      "text/plain": [
       "('R', 'G', 'B')"
      ]
     },
     "execution_count": 6,
     "metadata": {},
     "output_type": "execute_result"
    }
   ],
   "source": [
    "rgb_image.getbands()"
   ]
  },
  {
   "cell_type": "markdown",
   "metadata": {},
   "source": [
    "We can see this if we obtain the first pixel in the image and see the type."
   ]
  },
  {
   "cell_type": "code",
   "execution_count": 7,
   "metadata": {},
   "outputs": [
    {
     "data": {
      "text/plain": [
       "(255, 93, 0)"
      ]
     },
     "execution_count": 7,
     "metadata": {},
     "output_type": "execute_result"
    }
   ],
   "source": [
    "rgb_image.getpixel((rgb_image.width/2, rgb_image.height/2))"
   ]
  },
  {
   "cell_type": "code",
   "execution_count": 8,
   "metadata": {},
   "outputs": [],
   "source": [
    "rgb_image.show()"
   ]
  },
  {
   "cell_type": "markdown",
   "metadata": {},
   "source": [
    "A pixel with the values (0, 0, 0) means it has 0 red values, 0 green value, and 0 blue values. This is a black pixel."
   ]
  },
  {
   "cell_type": "markdown",
   "metadata": {},
   "source": [
    "Summary of the image data:"
   ]
  },
  {
   "cell_type": "code",
   "execution_count": 9,
   "metadata": {},
   "outputs": [
    {
     "name": "stdout",
     "output_type": "stream",
     "text": [
      "Format: None \n",
      "Width: 360 \n",
      "Height: 240 \n",
      "Mode: RGB\n"
     ]
    }
   ],
   "source": [
    "print(\"Format:\", rgb_image.format, \"\\nWidth:\", rgb_image.width, \"\\nHeight:\", rgb_image.height, \"\\nMode:\", rgb_image.mode)"
   ]
  },
  {
   "cell_type": "markdown",
   "metadata": {},
   "source": [
    "## Preprocessing: Cropping the image"
   ]
  },
  {
   "cell_type": "markdown",
   "metadata": {},
   "source": [
    "Because the image contains a black sidebars from the recording, we are going to crop them out, so we can only use the important pixels."
   ]
  },
  {
   "cell_type": "code",
   "execution_count": 10,
   "metadata": {},
   "outputs": [],
   "source": [
    "def crop_image(rgb_image):\n",
    "    # Define the boundary to crop\n",
    "    x1 = 0 # Left coordinate of the crop rectangle\n",
    "    x2 = 0 # Right coordinate of the crop rectangle\n",
    "    # y1 = 0 # Top coordiante of the crop rectangle\n",
    "    # y2 = 0 # Bottom coordinate of the crop \n",
    "\n",
    "    # Loop through the x-axis until color is found\n",
    "    for i in range (rgb_image.width):\n",
    "        r, g, b = rgb_image.getpixel((i, 0))\n",
    "        if r != 0 or g != 0 or b != 0:\n",
    "            x1 = i\n",
    "            break\n",
    "\n",
    "    # Loop through the x-axis until color is no longer found\n",
    "    for i in range (x1, rgb_image.width):\n",
    "        r, g, b = rgb_image.getpixel((i, 0))\n",
    "        if r == 0 and g == 0 and b == 0:\n",
    "            x2 = i - 1\n",
    "            break\n",
    "    \n",
    "    return rgb_image.crop((x1, 0, x2, rgb_image.height))    "
   ]
  },
  {
   "cell_type": "code",
   "execution_count": 11,
   "metadata": {},
   "outputs": [],
   "source": [
    "cropped_image = crop_image(rgb_image)\n",
    "cropped_image.show()"
   ]
  },
  {
   "cell_type": "markdown",
   "metadata": {},
   "source": [
    "Get the numpy array from image"
   ]
  },
  {
   "cell_type": "code",
   "execution_count": 12,
   "metadata": {},
   "outputs": [
    {
     "data": {
      "text/plain": [
       "251.85176399026764"
      ]
     },
     "execution_count": 12,
     "metadata": {},
     "output_type": "execute_result"
    }
   ],
   "source": [
    "im_array = np.array(cropped_image)\n",
    "im_array[..., 0].mean()"
   ]
  },
  {
   "cell_type": "markdown",
   "metadata": {},
   "source": [
    "Creating a signal extractor"
   ]
  },
  {
   "cell_type": "code",
   "execution_count": 13,
   "metadata": {},
   "outputs": [],
   "source": [
    "import cv2\n",
    "from sklearn.decomposition import FastICA, PCA\n",
    "\n",
    "class SignalExtractor():\n",
    "    def __init__(self, sample_rate):\n",
    "        self.sample_rate = sample_rate\n",
    "        pass\n",
    "\n",
    "    def red_channel_mean(self, frames, **kwargs):\n",
    "        signal = []\n",
    "        for frame in frames:\n",
    "            mean_r_ch = frame[..., 0].mean()\n",
    "            signal.append(mean_r_ch)\n",
    "        return signal\n",
    "    \n",
    "    def green_channel_mean(self, frames, **kwargs):\n",
    "        signal = []\n",
    "        for frame in frames:\n",
    "            mean_g_ch = frame[..., 1].mean()\n",
    "            signal.append(mean_g_ch)\n",
    "        return signal\n",
    "\n",
    "    def luma_component_mean(self, frames):\n",
    "        signal = []\n",
    "        for frame_bgr in frames:\n",
    "            img_ycrcb = cv2.cvtColor(frame_bgr, cv2.COLOR_BGR2YCrCb)\n",
    "            mean_of_luma = img_ycrcb[..., 0].mean()\n",
    "            signal.append(mean_of_luma)\n",
    "\n",
    "        return np.array(signal)"
   ]
  },
  {
   "cell_type": "code",
   "execution_count": 17,
   "metadata": {},
   "outputs": [],
   "source": [
    "frames = np.array([im_array])"
   ]
  },
  {
   "cell_type": "code",
   "execution_count": 18,
   "metadata": {},
   "outputs": [
    {
     "data": {
      "text/plain": [
       "(1, 240, 137, 3)"
      ]
     },
     "execution_count": 18,
     "metadata": {},
     "output_type": "execute_result"
    }
   ],
   "source": [
    "frames.shape"
   ]
  },
  {
   "cell_type": "code",
   "execution_count": 19,
   "metadata": {},
   "outputs": [
    {
     "data": {
      "text/plain": [
       "[251.85176399026764]"
      ]
     },
     "execution_count": 19,
     "metadata": {},
     "output_type": "execute_result"
    }
   ],
   "source": [
    "se = SignalExtractor(sample_rate=100)\n",
    "se.red_channel_mean(frames=frames)"
   ]
  }
 ],
 "metadata": {
  "kernelspec": {
   "display_name": "base",
   "language": "python",
   "name": "python3"
  },
  "language_info": {
   "codemirror_mode": {
    "name": "ipython",
    "version": 3
   },
   "file_extension": ".py",
   "mimetype": "text/x-python",
   "name": "python",
   "nbconvert_exporter": "python",
   "pygments_lexer": "ipython3",
   "version": "3.9.15"
  },
  "orig_nbformat": 4
 },
 "nbformat": 4,
 "nbformat_minor": 2
}
